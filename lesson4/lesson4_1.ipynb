{
 "cells": [
  {
   "cell_type": "code",
   "execution_count": null,
   "metadata": {},
   "outputs": [],
   "source": [
    "import statistics\n",
    "values1 = [0, 5, 9, 14]\n",
    "values2 = [5, 6, 8, 9]\n",
    "\n",
    "average1 = statistics.mean(values1)\n",
    "average2 = statistics.mean(values2)\n",
    "std1 = statistics.stdev(values1)\n",
    "std2 = statistics.stdev(values2)\n",
    "\n",
    "print(f\"value1的平均是{average1}\")\n",
    "print(f\"values1的標準差是{std1}\")\n",
    "print(\"========================\")\n",
    "print(f\"value2的平均是{average2}\")\n",
    "print(f\"values2的標準差是{std2}\")"
   ]
  },
  {
   "cell_type": "code",
   "execution_count": null,
   "metadata": {},
   "outputs": [],
   "source": [
    "n = 10\n",
    "n = n + 5\n",
    "print(n)"
   ]
  },
  {
   "cell_type": "code",
   "execution_count": null,
   "metadata": {},
   "outputs": [],
   "source": [
    "\n",
    "n = 10\n",
    "n *= 5 #複合指定運算子\n",
    "print(n)"
   ]
  },
  {
   "cell_type": "code",
   "execution_count": null,
   "metadata": {},
   "outputs": [],
   "source": [
    "#請以(複合指定運算子)設計程式,讓用者輸入三個任意數，程式會顯示3數相加的總和(float)\n",
    "total = 0\n",
    "value1 = float(input(\"請輸入第一個數:\"))\n",
    "total += value1\n",
    "\n",
    "value2 = float(input(\"請輸入第二個數:\"))\n",
    "total += value2\n",
    "\n",
    "value3 = float(input(\"請輸入第三個數:\"))\n",
    "total += value3\n",
    "\n",
    "print(f\"{value1}+{value2}+{value3}={round(total,ndigits=2)}\")"
   ]
  },
  {
   "cell_type": "code",
   "execution_count": null,
   "metadata": {},
   "outputs": [],
   "source": [
    "#字串\n",
    "print(\"value1 + value2 + value3 = total\")\n",
    "\n",
    "#字串整合變數成為一個新的字串\n",
    "#字串插補\n",
    "print(f\"{value1} + {value2} + {value3} = {total}\")"
   ]
  }
 ],
 "metadata": {
  "language_info": {
   "name": "python"
  }
 },
 "nbformat": 4,
 "nbformat_minor": 2
}
