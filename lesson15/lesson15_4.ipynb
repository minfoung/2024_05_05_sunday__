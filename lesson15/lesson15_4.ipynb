{
 "cells": [
  {
   "cell_type": "code",
   "execution_count": 2,
   "metadata": {},
   "outputs": [
    {
     "data": {
      "text/plain": [
       "array([[ 69,  85,  96,  54,  87],\n",
       "       [ 86,  90,  88,  63,  99],\n",
       "       [ 55,  91, 100,  94,  61],\n",
       "       [ 50,  97,  68,  89,  94],\n",
       "       [ 54,  70,  75,  93,  90],\n",
       "       [ 73,  60,  82,  59,  72],\n",
       "       [ 56,  50,  64,  66,  74],\n",
       "       [ 93,  71,  57,  61,  71],\n",
       "       [ 79,  50,  99,  74,  68],\n",
       "       [ 94,  75,  61,  75,  55],\n",
       "       [ 90,  86,  65,  89,  62],\n",
       "       [ 98,  83,  65,  82,  94],\n",
       "       [ 98,  71,  87,  74,  55],\n",
       "       [ 79,  89,  96,  91,  84],\n",
       "       [ 64,  61,  93,  53,  62],\n",
       "       [ 65,  90,  92,  91,  90],\n",
       "       [ 98,  96,  93,  80,  90],\n",
       "       [ 62,  56,  88,  59,  78],\n",
       "       [ 65,  93,  78,  71,  57],\n",
       "       [ 62,  69,  59,  82,  88],\n",
       "       [ 64,  96,  84,  84,  50],\n",
       "       [ 51,  91,  86,  85,  60],\n",
       "       [ 88,  96,  96,  75,  98],\n",
       "       [ 70,  61,  89,  84,  58],\n",
       "       [ 53,  69,  95,  75,  65],\n",
       "       [ 98,  90,  87,  80,  64],\n",
       "       [ 53,  88,  90,  87,  90],\n",
       "       [ 77,  83,  87,  80,  70],\n",
       "       [ 68,  51,  76,  55,  51],\n",
       "       [ 55,  55,  67,  62,  54],\n",
       "       [ 81,  85,  55,  91,  78],\n",
       "       [ 96,  60,  59,  65,  95],\n",
       "       [ 82,  97,  97,  53,  68],\n",
       "       [ 68,  98,  89,  72,  75],\n",
       "       [ 61,  84,  62,  88,  98],\n",
       "       [ 61,  87,  85,  94,  58],\n",
       "       [ 67,  52,  85,  79,  94],\n",
       "       [ 93,  65,  86,  97,  70],\n",
       "       [ 75,  54,  71,  52,  95],\n",
       "       [ 62,  93,  71,  69,  65],\n",
       "       [ 73,  73,  90,  97,  53],\n",
       "       [ 75,  53,  97,  75,  86],\n",
       "       [ 68,  67,  91,  61,  80],\n",
       "       [ 63,  51,  67,  90,  52],\n",
       "       [ 63,  98,  98,  53,  53],\n",
       "       [ 77,  88,  71,  56,  81],\n",
       "       [ 93,  92,  73,  51,  78],\n",
       "       [ 61,  60,  61,  73,  99],\n",
       "       [ 67,  74,  87,  98,  71],\n",
       "       [ 75,  79,  95,  75,  65]])"
      ]
     },
     "execution_count": 2,
     "metadata": {},
     "output_type": "execute_result"
    }
   ],
   "source": [
    "import numpy as np\n",
    "students = np.random.randint(50,101,size=(50,5))\n",
    "students"
   ]
  },
  {
   "cell_type": "code",
   "execution_count": 3,
   "metadata": {},
   "outputs": [
    {
     "data": {
      "text/plain": [
       "array([[77, 88, 71, 56, 81],\n",
       "       [93, 92, 73, 51, 78],\n",
       "       [61, 60, 61, 73, 99],\n",
       "       [67, 74, 87, 98, 71],\n",
       "       [75, 79, 95, 75, 65]])"
      ]
     },
     "execution_count": 3,
     "metadata": {},
     "output_type": "execute_result"
    }
   ],
   "source": [
    "students[0,0]\n",
    "students[:1,:]\n",
    "students[:1] #前一個學生\n",
    "students[:2] #前2個學生\n",
    "students[-5:] #最後5個學生"
   ]
  },
  {
   "cell_type": "code",
   "execution_count": 4,
   "metadata": {},
   "outputs": [
    {
     "data": {
      "text/plain": [
       "array([87, 99, 61, 94, 90, 72, 74, 71, 68, 55, 62, 94, 55, 84, 62, 90, 90,\n",
       "       78, 57, 88, 50, 60, 98, 58, 65, 64, 90, 70, 51, 54, 78, 95, 68, 75,\n",
       "       98, 58, 94, 70, 95, 65, 53, 86, 80, 52, 53, 81, 78, 99, 71, 65])"
      ]
     },
     "execution_count": 4,
     "metadata": {},
     "output_type": "execute_result"
    }
   ],
   "source": [
    "students[:,0] #第一科所有分數\n",
    "students[:,-1] #最後一科所有分數"
   ]
  },
  {
   "cell_type": "code",
   "execution_count": 5,
   "metadata": {},
   "outputs": [
    {
     "data": {
      "text/plain": [
       "array([68.5, 81. , 86. , 75. , 71.5])"
      ]
     },
     "execution_count": 5,
     "metadata": {},
     "output_type": "execute_result"
    }
   ],
   "source": [
    "np.sum(students[:1]) #第一個學生總分\n",
    "np.sum(students[:2],axis=1) #前2個學生的總分 \n",
    "np.sum(students,axis=1) #全班每位學生的總分\n",
    "np.mean(students,axis=0) #每一科全班的平均\n",
    "np.median(students,axis=0) #每一科全班的中位數"
   ]
  }
 ],
 "metadata": {
  "kernelspec": {
   "display_name": "Python 3",
   "language": "python",
   "name": "python3"
  },
  "language_info": {
   "codemirror_mode": {
    "name": "ipython",
    "version": 3
   },
   "file_extension": ".py",
   "mimetype": "text/x-python",
   "name": "python",
   "nbconvert_exporter": "python",
   "pygments_lexer": "ipython3",
   "version": "3.10.14"
  }
 },
 "nbformat": 4,
 "nbformat_minor": 2
}
