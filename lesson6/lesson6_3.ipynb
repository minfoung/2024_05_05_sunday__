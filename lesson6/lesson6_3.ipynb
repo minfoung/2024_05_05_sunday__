{
 "cells": [
  {
   "cell_type": "code",
   "execution_count": 2,
   "metadata": {},
   "outputs": [
    {
     "name": "stdout",
     "output_type": "stream",
     "text": [
      "請輸入第1月的儲存的金額29000\n",
      "請輸入第2月的儲存的金額1000\n",
      "您已經存了30000元,共存了2個月\n"
     ]
    }
   ],
   "source": [
    "#小明想要存錢買一輛機車,機車每輛30000元,他將每月的存錢輸入,當存款族購買機車時,就顯示提示訊息告知。\n",
    "import pyinputplus as pyip\n",
    "\n",
    "deposit = 0\n",
    "num = 0\n",
    "while deposit < 30000:\n",
    "   num += 1\n",
    "   input_value = pyip.inputInt(f\"請輸入第{num}月的儲存的金額\")\n",
    "   print(input_value)\n",
    "   deposit += input_value\n",
    "\n",
    "print(f\"您已經存了{deposit}元,共存了{num}個月\")"
   ]
  },
  {
   "cell_type": "code",
   "execution_count": 3,
   "metadata": {},
   "outputs": [
    {
     "name": "stdout",
     "output_type": "stream",
     "text": [
      "您輸入的英文字是:a\n",
      "應用程式結束\n"
     ]
    }
   ],
   "source": [
    "while(True):\n",
    "    letter = input(\"請輸入小寫英文字[按q會離開]:\")\n",
    "    if letter == \"q\":\n",
    "       break\n",
    "    print(f\"您輸入的英文字是:{letter}\")\n",
    "print(\"應用程式結束\")"
   ]
  },
  {
   "cell_type": "code",
   "execution_count": 9,
   "metadata": {},
   "outputs": [
    {
     "name": "stdout",
     "output_type": "stream",
     "text": [
      "應用程式結束\n"
     ]
    }
   ],
   "source": [
    "while(True):\n",
    "    value = input(\"請輸入整數,輸入[q]離開:\")\n",
    "    if value == 'q':\n",
    "        break\n",
    "    try:\n",
    "        valueInt = int(value)\n",
    "    except Exception:\n",
    "        print(\"輸入錯誤,請重新輸入\")\n",
    "        continue\n",
    "\n",
    "    print(f\"{valueInt ** 2}\")\n",
    "\n",
    "print(\"應用程式結束\")"
   ]
  },
  {
   "cell_type": "code",
   "execution_count": 10,
   "metadata": {},
   "outputs": [
    {
     "name": "stdout",
     "output_type": "stream",
     "text": [
      "請輸入整數求因數: 68\n",
      "68 的因數有: [1, 2, 4, 17, 34, 68]\n"
     ]
    }
   ],
   "source": [
    "#練習 求所有的因數\n",
    "\n",
    "import pyinputplus as pypi\n",
    "from math import *\n",
    "\n",
    "n = pypi.inputInt(\"請輸入整數求因數: \")\n",
    "print(n)\n",
    "num = []\n",
    "for i in range(1, n+1):\n",
    "    if n % i == 0:\n",
    "        num.append(i)\n",
    "print(f\"{n} 的因數有: {num}\")"
   ]
  }
 ],
 "metadata": {
  "kernelspec": {
   "display_name": "Python 3",
   "language": "python",
   "name": "python3"
  },
  "language_info": {
   "codemirror_mode": {
    "name": "ipython",
    "version": 3
   },
   "file_extension": ".py",
   "mimetype": "text/x-python",
   "name": "python",
   "nbconvert_exporter": "python",
   "pygments_lexer": "ipython3",
   "version": "3.10.14"
  }
 },
 "nbformat": 4,
 "nbformat_minor": 2
}
