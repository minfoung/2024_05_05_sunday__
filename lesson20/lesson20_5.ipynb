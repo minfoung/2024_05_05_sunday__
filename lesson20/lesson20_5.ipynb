{
 "cells": [
  {
   "cell_type": "code",
   "execution_count": null,
   "metadata": {},
   "outputs": [],
   "source": [
    "import pandas as pd\n",
    "df1 = pd.read_csv('2019~2023進出站人口數.csv',index_col='日期',usecols=['日期','車站名稱','進站人數','出站人數'])\n",
    "df2 = df1.reset_index().set_index(keys=['日期','車站名稱'])\n",
    "df2.columns.name = \"人數\"\n",
    "s1 = df2.stack(level='人數')\n",
    "s1"
   ]
  },
  {
   "cell_type": "code",
   "execution_count": null,
   "metadata": {},
   "outputs": [],
   "source": [
    "s2 = s1['2019-04-23':'2019-04-30']\n",
    "s2"
   ]
  },
  {
   "cell_type": "code",
   "execution_count": null,
   "metadata": {},
   "outputs": [],
   "source": [
    "#2019-04-23~2019-04-30,每日進出的人口數\n",
    "s2.groupby(level=['日期','人數']).sum()"
   ]
  },
  {
   "cell_type": "code",
   "execution_count": null,
   "metadata": {},
   "outputs": [],
   "source": [
    "#2019-04-23~2019-04-30,每日進出的人口數\n",
    "s2.groupby(level=['車站名稱','人數']).sum().unstack(level='人數')"
   ]
  },
  {
   "cell_type": "code",
   "execution_count": null,
   "metadata": {},
   "outputs": [],
   "source": []
  }
 ],
 "metadata": {
  "language_info": {
   "name": "python"
  }
 },
 "nbformat": 4,
 "nbformat_minor": 2
}
