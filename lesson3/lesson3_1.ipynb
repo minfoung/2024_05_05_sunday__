{
 "cells": [
  {
   "cell_type": "code",
   "execution_count": null,
   "metadata": {},
   "outputs": [],
   "source": [
    "print(\"Hello! Python\")"
   ]
  },
  {
   "cell_type": "code",
   "execution_count": null,
   "metadata": {},
   "outputs": [],
   "source": [
    "#圓面積: pi * r * r\n",
    "#pi = 3.14\n",
    "import math\n",
    "\n",
    "r = 5\n",
    "\n",
    "area = math.pi * r * r\n",
    "print(f\"半徑為{r}的圓，面積為{round(area,ndigits=2)}\")"
   ]
  },
  {
   "cell_type": "code",
   "execution_count": null,
   "metadata": {},
   "outputs": [],
   "source": [
    "#這是要提交1\n",
    "#這是提交2"
   ]
  }
 ],
 "metadata": {
  "language_info": {
   "name": "python"
  }
 },
 "nbformat": 4,
 "nbformat_minor": 2
}
