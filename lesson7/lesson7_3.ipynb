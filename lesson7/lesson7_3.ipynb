{
 "cells": [
  {
   "cell_type": "code",
   "execution_count": 1,
   "metadata": {},
   "outputs": [
    {
     "name": "stdout",
     "output_type": "stream",
     "text": [
      "Hello!\n"
     ]
    }
   ],
   "source": [
    "def sayHello()->None:\n",
    "    print(\"Hello!\")\n",
    "\n",
    "sayHello()"
   ]
  },
  {
   "cell_type": "code",
   "execution_count": 2,
   "metadata": {},
   "outputs": [
    {
     "name": "stdout",
     "output_type": "stream",
     "text": [
      "0.3697726638709028\n"
     ]
    }
   ],
   "source": [
    "import random\n",
    "def getRandomNum() ->float:\n",
    "    return random.random()\n",
    "\n",
    "n:float = getRandomNum()\n",
    "print(n)"
   ]
  },
  {
   "cell_type": "code",
   "execution_count": 5,
   "metadata": {},
   "outputs": [
    {
     "name": "stdout",
     "output_type": "stream",
     "text": [
      "Hello!Tom\n",
      "Hello!謝明峰\n"
     ]
    }
   ],
   "source": [
    "#一個參數\n",
    "def sayHello(n:str)->None:\n",
    "    name:str = n\n",
    "    print(f\"Hello!{name}\")\n",
    "\n",
    "sayHello(\"Tom\")  #引數值\n",
    "sayHello(n=\"謝明峰\") #引數名稱的呼叫"
   ]
  },
  {
   "cell_type": "code",
   "execution_count": 6,
   "metadata": {},
   "outputs": [
    {
     "name": "stdout",
     "output_type": "stream",
     "text": [
      "50\n"
     ]
    },
    {
     "data": {
      "text/plain": [
       "50"
      ]
     },
     "execution_count": 6,
     "metadata": {},
     "output_type": "execute_result"
    }
   ],
   "source": [
    "#兩個參數\n",
    "#傳出值int\n",
    "\n",
    "def multiply(a:int,b:int) -> int:\n",
    "    return a * b\n",
    "\n",
    "print(multiply(5,10))\n",
    "multiply(a=5,b=10)\n"
   ]
  }
 ],
 "metadata": {
  "kernelspec": {
   "display_name": "Python 3",
   "language": "python",
   "name": "python3"
  },
  "language_info": {
   "codemirror_mode": {
    "name": "ipython",
    "version": 3
   },
   "file_extension": ".py",
   "mimetype": "text/x-python",
   "name": "python",
   "nbconvert_exporter": "python",
   "pygments_lexer": "ipython3",
   "version": "3.10.14"
  }
 },
 "nbformat": 4,
 "nbformat_minor": 2
}
